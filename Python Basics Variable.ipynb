{
 "cells": [
  {
   "cell_type": "code",
   "execution_count": 13,
   "id": "65d8709d-0e82-4513-bf8c-f429afbc677a",
   "metadata": {},
   "outputs": [
    {
     "name": "stdin",
     "output_type": "stream",
     "text": [
      "x = 10\n",
      "y = 5\n"
     ]
    },
    {
     "name": "stdout",
     "output_type": "stream",
     "text": [
      "Before Swap Values of the variables \n",
      " x = 10 y = 5\n",
      "After the Sawp Values of the variables \n",
      " x = 5 y = 10\n"
     ]
    }
   ],
   "source": [
    "\"\"\"Declare two variables, `x` and `y`, and assign them integer values. Swap the\n",
    "values of these variables without using any temporary variable.\"\"\"\n",
    "\n",
    "#Input from the User \n",
    "x = input(\"x =\")\n",
    "y = input(\"y =\")\n",
    "\n",
    "#Input values Display\n",
    "print(\"Before Swap Values of the variables \\n x =\",x,\"y =\",y)\n",
    "\n",
    "#swaping the values\n",
    "x,y = y,x \n",
    "\n",
    "#Display output\n",
    "print(\"After the Sawp Values of the variables \\n x =\",x,\"y =\",y)\n"
   ]
  },
  {
   "cell_type": "code",
   "execution_count": 12,
   "id": "de47ff47-86dc-40e9-aa8e-ac970059744f",
   "metadata": {},
   "outputs": [
    {
     "name": "stdout",
     "output_type": "stream",
     "text": [
      "To calculate the Area of a Rectangle, Please input the Length and Width\n"
     ]
    },
    {
     "name": "stdin",
     "output_type": "stream",
     "text": [
      "Lenght = 2\n",
      "Width = 3\n"
     ]
    },
    {
     "name": "stdout",
     "output_type": "stream",
     "text": [
      "For the given Length 2 and Width 3 Area of a Rectangle is = 6\n"
     ]
    }
   ],
   "source": [
    "\"\"\"Create a program that calculates the area of a rectangle. Take the length and\n",
    "width as inputs from the user and store them in variables. Calculate and\n",
    "display the area.\"\"\"\n",
    "\n",
    "#inputs from the user \n",
    "print(\"To calculate the Area of a Rectangle, Please input the Length and Width\")\n",
    "l = input(\"Lenght =\")\n",
    "b = input(\"Width =\")\n",
    "\n",
    "#Display Output\n",
    "print(\"For the given Length\",l,\"and Width\",b,\",Area of a Rectangle is =\",int(l)*int(b))\n"
   ]
  },
  {
   "cell_type": "code",
   "execution_count": 1,
   "id": "48bf4797-8684-437d-af32-8c26ab4ef7db",
   "metadata": {},
   "outputs": [
    {
     "name": "stdout",
     "output_type": "stream",
     "text": [
      "To Calculate Fahrenheit, Please input the Celsius\n"
     ]
    },
    {
     "name": "stdin",
     "output_type": "stream",
     "text": [
      "Calculate = 26\n"
     ]
    },
    {
     "name": "stdout",
     "output_type": "stream",
     "text": [
      "Fahrenheit = 78.80\n"
     ]
    }
   ],
   "source": [
    "\"\"\"Write a Python program that converts temperatures from Celsius to\n",
    "Fahrenheit. Take the temperature in Celsius as input, store it in a variable,\n",
    "convert it to Fahrenheit, and display the result.\"\"\"\n",
    "\n",
    "#input from the user\n",
    "print(\"To Calculate Fahrenheit, Please input the Celsius\")\n",
    "c = input(\"Calculate =\")\n",
    "\n",
    "#Calculating the Fahrenheit\n",
    "f = int(c) * (9/5) + 32\n",
    "\n",
    "#Display Output with 2 decimal points only\n",
    "print(\"Fahrenheit = %.2f\"% f)"
   ]
  },
  {
   "cell_type": "code",
   "execution_count": 3,
   "id": "5e11ff94-f7b3-4a8c-8e4c-383aa97b9e97",
   "metadata": {},
   "outputs": [
    {
     "name": "stdin",
     "output_type": "stream",
     "text": [
      "Input_String : Pwskills\n"
     ]
    },
    {
     "name": "stdout",
     "output_type": "stream",
     "text": [
      "Length of the string : 8\n"
     ]
    }
   ],
   "source": [
    "\"\"\"String Based Questions\n",
    "Write a Python program that takes a string as input and prints the length of\n",
    "the string.\"\"\"\n",
    "\n",
    "#input from the User\n",
    "st = input(\"Input_String :\")\n",
    "\n",
    "#Display the Lenght of the string\n",
    "print(\"Length of the string :\",len(st))"
   ]
  },
  {
   "cell_type": "code",
   "execution_count": 2,
   "id": "ecfeb7b9-1b1a-4089-b365-230ed62c68e7",
   "metadata": {},
   "outputs": [
    {
     "name": "stdin",
     "output_type": "stream",
     "text": [
      "Sentence : How are you doing brother\n"
     ]
    },
    {
     "name": "stdout",
     "output_type": "stream",
     "text": [
      "Count of Vowels in the give sentence 9\n"
     ]
    }
   ],
   "source": [
    "\"\"\"Create a program that takes a sentence from the user and counts the number\n",
    "of vowels (a, e, i, o, u) in the string.\"\"\"\n",
    "\n",
    "#input from the user\n",
    "s = input(\"Sentence :\")\n",
    "\n",
    "#Display the count \n",
    "print(\"Count of Vowels in the give sentence :\",s.count(\"a\") + s.count(\"e\") + s.count(\"i\") + s.count(\"o\") + s.count(\"u\"))\n",
    "\n"
   ]
  },
  {
   "cell_type": "code",
   "execution_count": 3,
   "id": "2bef878d-ca30-48e3-a2ff-28f378a08fb0",
   "metadata": {},
   "outputs": [
    {
     "name": "stdin",
     "output_type": "stream",
     "text": [
      "String : Pradeep\n"
     ]
    },
    {
     "name": "stdout",
     "output_type": "stream",
     "text": [
      "Reversed string : peedarP\n"
     ]
    }
   ],
   "source": [
    "\"\"\"Given a string, reverse the order of characters using string slicing and print\n",
    "the reversed string.\"\"\"\n",
    "\n",
    "#input the string\n",
    "s = input(\"String :\")\n",
    "\n",
    "#Display reversed string \n",
    "print(\"Reversed string :\",s[::-1])"
   ]
  },
  {
   "cell_type": "code",
   "execution_count": 7,
   "id": "958c223f-7d18-4156-8ae7-2e98412fc921",
   "metadata": {},
   "outputs": [
    {
     "name": "stdin",
     "output_type": "stream",
     "text": [
      "String : malayalam\n"
     ]
    },
    {
     "name": "stdout",
     "output_type": "stream",
     "text": [
      "Output is True the it is a palindrome otherwise it is not a palindrome: True\n"
     ]
    }
   ],
   "source": [
    "\"\"\"Write a program that takes a string as input and checks if it is a palindrome\n",
    "(reads the same forwards and backwards).\"\"\"\n",
    "\n",
    "#input the string\n",
    "s = input(\"String :\")\n",
    "\n",
    "#Revers the string\n",
    "rs = s[::-1]\n",
    "\n",
    "#trying to match the both strings\n",
    "print(\"Output is True the it is a palindrome otherwise it is not a palindrome:\",s == rs)\n"
   ]
  },
  {
   "cell_type": "code",
   "execution_count": 10,
   "id": "8e6055b2-c4b6-4475-b6e8-57cfd60b9193",
   "metadata": {},
   "outputs": [
    {
     "name": "stdin",
     "output_type": "stream",
     "text": [
      "String : how are you \n"
     ]
    },
    {
     "name": "stdout",
     "output_type": "stream",
     "text": [
      "String without spaces in it : howareyou\n"
     ]
    }
   ],
   "source": [
    "\"\"\"Create a program that takes a string as input and removes all the spaces from\n",
    "it. Print the modified string without spaces.\"\"\"\n",
    "\n",
    "#input the string\n",
    "s = input(\"String :\")\n",
    "\n",
    "#Display output\n",
    "print(\"String without spaces in it :\",s.replace(\" \",''))"
   ]
  },
  {
   "cell_type": "code",
   "execution_count": null,
   "id": "9fceb15b-ac81-45e4-97c5-9e87e3b06c66",
   "metadata": {},
   "outputs": [],
   "source": []
  }
 ],
 "metadata": {
  "kernelspec": {
   "display_name": "Python 3 (ipykernel)",
   "language": "python",
   "name": "python3"
  },
  "language_info": {
   "codemirror_mode": {
    "name": "ipython",
    "version": 3
   },
   "file_extension": ".py",
   "mimetype": "text/x-python",
   "name": "python",
   "nbconvert_exporter": "python",
   "pygments_lexer": "ipython3",
   "version": "3.10.8"
  }
 },
 "nbformat": 4,
 "nbformat_minor": 5
}
